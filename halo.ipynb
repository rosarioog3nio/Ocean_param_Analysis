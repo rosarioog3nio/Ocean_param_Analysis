{
 "cells": [
  {
   "cell_type": "code",
   "execution_count": 51,
   "metadata": {},
   "outputs": [],
   "source": [
    "import pandas as pd\n",
    "import numpy as np\n",
    "import matplotlib.pyplot as plt"
   ]
  },
  {
   "cell_type": "code",
   "execution_count": null,
   "metadata": {},
   "outputs": [],
   "source": []
  },
  {
   "cell_type": "markdown",
   "metadata": {},
   "source": [
    "# Madagascar\n",
    "## halo_sul_inv = temp_mad_jun\n",
    "## halo_sul_ver = temp_mad_jan"
   ]
  },
  {
   "cell_type": "code",
   "execution_count": 33,
   "metadata": {},
   "outputs": [],
   "source": [
    "halo_sul_inv = pd.read_fwf('temp_mad_jun', header=None, names = ['Profundidade', 'www', 'indece', 'Temperatura'])\n",
    "halo_sul_ver = pd.read_fwf('temp_mad_jan', header=None, names = ['Profundidade', 'www', 'indece', 'Temperatura'])"
   ]
  },
  {
   "cell_type": "code",
   "execution_count": 34,
   "metadata": {},
   "outputs": [
    {
     "data": {
      "text/html": [
       "<div>\n",
       "<style scoped>\n",
       "    .dataframe tbody tr th:only-of-type {\n",
       "        vertical-align: middle;\n",
       "    }\n",
       "\n",
       "    .dataframe tbody tr th {\n",
       "        vertical-align: top;\n",
       "    }\n",
       "\n",
       "    .dataframe thead th {\n",
       "        text-align: right;\n",
       "    }\n",
       "</style>\n",
       "<table border=\"1\" class=\"dataframe\">\n",
       "  <thead>\n",
       "    <tr style=\"text-align: right;\">\n",
       "      <th></th>\n",
       "      <th>Profundidade</th>\n",
       "      <th>www</th>\n",
       "      <th>indece</th>\n",
       "      <th>Temperatura</th>\n",
       "    </tr>\n",
       "  </thead>\n",
       "  <tbody>\n",
       "    <tr>\n",
       "      <th>0</th>\n",
       "      <td>5.0</td>\n",
       "      <td>/</td>\n",
       "      <td>1:</td>\n",
       "      <td>29.36</td>\n",
       "    </tr>\n",
       "    <tr>\n",
       "      <th>1</th>\n",
       "      <td>15.1</td>\n",
       "      <td>/</td>\n",
       "      <td>2:</td>\n",
       "      <td>29.30</td>\n",
       "    </tr>\n",
       "    <tr>\n",
       "      <th>2</th>\n",
       "      <td>25.3</td>\n",
       "      <td>/</td>\n",
       "      <td>3:</td>\n",
       "      <td>28.91</td>\n",
       "    </tr>\n",
       "  </tbody>\n",
       "</table>\n",
       "</div>"
      ],
      "text/plain": [
       "   Profundidade www indece  Temperatura\n",
       "0           5.0   /     1:        29.36\n",
       "1          15.1   /     2:        29.30\n",
       "2          25.3   /     3:        28.91"
      ]
     },
     "execution_count": 34,
     "metadata": {},
     "output_type": "execute_result"
    }
   ],
   "source": [
    "halo_sul_ver.head(3)"
   ]
  },
  {
   "cell_type": "code",
   "execution_count": 35,
   "metadata": {},
   "outputs": [],
   "source": [
    "del halo_sul_inv['www']\n",
    "del halo_sul_inv['indece']\n",
    "del halo_sul_ver['www']\n",
    "del halo_sul_ver['indece']"
   ]
  },
  {
   "cell_type": "code",
   "execution_count": 36,
   "metadata": {},
   "outputs": [
    {
     "data": {
      "text/plain": [
       "Profundidade    float64\n",
       "Temperatura     float64\n",
       "dtype: object"
      ]
     },
     "execution_count": 36,
     "metadata": {},
     "output_type": "execute_result"
    }
   ],
   "source": [
    "halo_sul_inv.dtypes"
   ]
  },
  {
   "cell_type": "code",
   "execution_count": 46,
   "metadata": {},
   "outputs": [],
   "source": [
    "halo_sul_inv = halo_sul_inv.set_index('Profundidade')\n",
    "halo_sul_ver = halo_sul_ver.set_index('Profundidade')"
   ]
  },
  {
   "cell_type": "code",
   "execution_count": 47,
   "metadata": {},
   "outputs": [
    {
     "data": {
      "text/html": [
       "<div>\n",
       "<style scoped>\n",
       "    .dataframe tbody tr th:only-of-type {\n",
       "        vertical-align: middle;\n",
       "    }\n",
       "\n",
       "    .dataframe tbody tr th {\n",
       "        vertical-align: top;\n",
       "    }\n",
       "\n",
       "    .dataframe thead th {\n",
       "        text-align: right;\n",
       "    }\n",
       "</style>\n",
       "<table border=\"1\" class=\"dataframe\">\n",
       "  <thead>\n",
       "    <tr style=\"text-align: right;\">\n",
       "      <th></th>\n",
       "      <th>Temperatura</th>\n",
       "    </tr>\n",
       "    <tr>\n",
       "      <th>Profundidade</th>\n",
       "      <th></th>\n",
       "    </tr>\n",
       "  </thead>\n",
       "  <tbody>\n",
       "    <tr>\n",
       "      <th>5.0</th>\n",
       "      <td>27.86</td>\n",
       "    </tr>\n",
       "    <tr>\n",
       "      <th>15.1</th>\n",
       "      <td>27.85</td>\n",
       "    </tr>\n",
       "  </tbody>\n",
       "</table>\n",
       "</div>"
      ],
      "text/plain": [
       "              Temperatura\n",
       "Profundidade             \n",
       "5.0                 27.86\n",
       "15.1                27.85"
      ]
     },
     "execution_count": 47,
     "metadata": {},
     "output_type": "execute_result"
    }
   ],
   "source": [
    "halo_sul_inv.head(2)"
   ]
  },
  {
   "cell_type": "code",
   "execution_count": 48,
   "metadata": {},
   "outputs": [],
   "source": [
    "halo_sul_inv[\"Temperatura\"] = pd.to_numeric(halo_sul_inv[\"Temperatura\"])\n",
    "halo_sul_ver[\"Temperatura\"] = pd.to_numeric(halo_sul_ver[\"Temperatura\"])"
   ]
  },
  {
   "cell_type": "code",
   "execution_count": 49,
   "metadata": {},
   "outputs": [
    {
     "data": {
      "text/plain": [
       "(array([ 0.,  5., 10., 15., 20., 25., 30., 35.]),\n",
       " <a list of 8 Text yticklabel objects>)"
      ]
     },
     "execution_count": 49,
     "metadata": {},
     "output_type": "execute_result"
    },
    {
     "data": {
      "image/png": "[encoded data removed]",
      "text/plain": [
       "<Figure size 792x288 with 1 Axes>"
      ]
     },
     "metadata": {},
     "output_type": "display_data"
    }
   ],
   "source": [
    "import seaborn as sns\n",
    "sns.set(rc={'figure.figsize':(11, 4)})\n",
    "halo_sul_inv['Temperatura'].plot(linewidth=0.5);\n",
    "halo_sul_ver['Temperatura'].plot(linewidth=0.5);\n",
    "plt.xticks(rotation=90)\n",
    "plt.yticks(rotation=90)"
   ]
  },
  {
   "cell_type": "code",
   "execution_count": 52,
   "metadata": {},
   "outputs": [
    {
     "data": {
      "text/html": [
       "<div>\n",
       "<style scoped>\n",
       "    .dataframe tbody tr th:only-of-type {\n",
       "        vertical-align: middle;\n",
       "    }\n",
       "\n",
       "    .dataframe tbody tr th {\n",
       "        vertical-align: top;\n",
       "    }\n",
       "\n",
       "    .dataframe thead th {\n",
       "        text-align: right;\n",
       "    }\n",
       "</style>\n",
       "<table border=\"1\" class=\"dataframe\">\n",
       "  <thead>\n",
       "    <tr style=\"text-align: right;\">\n",
       "      <th></th>\n",
       "      <th>Temperatura</th>\n",
       "    </tr>\n",
       "  </thead>\n",
       "  <tbody>\n",
       "    <tr>\n",
       "      <th>count</th>\n",
       "      <td>26.000000</td>\n",
       "    </tr>\n",
       "    <tr>\n",
       "      <th>mean</th>\n",
       "      <td>17.726154</td>\n",
       "    </tr>\n",
       "    <tr>\n",
       "      <th>std</th>\n",
       "      <td>8.926927</td>\n",
       "    </tr>\n",
       "    <tr>\n",
       "      <th>min</th>\n",
       "      <td>2.910000</td>\n",
       "    </tr>\n",
       "    <tr>\n",
       "      <th>25%</th>\n",
       "      <td>10.390000</td>\n",
       "    </tr>\n",
       "    <tr>\n",
       "      <th>50%</th>\n",
       "      <td>19.155000</td>\n",
       "    </tr>\n",
       "    <tr>\n",
       "      <th>75%</th>\n",
       "      <td>25.425000</td>\n",
       "    </tr>\n",
       "    <tr>\n",
       "      <th>max</th>\n",
       "      <td>29.360000</td>\n",
       "    </tr>\n",
       "  </tbody>\n",
       "</table>\n",
       "</div>"
      ],
      "text/plain": [
       "       Temperatura\n",
       "count    26.000000\n",
       "mean     17.726154\n",
       "std       8.926927\n",
       "min       2.910000\n",
       "25%      10.390000\n",
       "50%      19.155000\n",
       "75%      25.425000\n",
       "max      29.360000"
      ]
     },
     "execution_count": 52,
     "metadata": {},
     "output_type": "execute_result"
    }
   ],
   "source": [
    "halo_sul_ver.describe()"
   ]
  },
  {
   "cell_type": "code",
   "execution_count": 39,
   "metadata": {},
   "outputs": [
    {
     "data": {
      "text/plain": [
       "(array([ 0.,  5., 10., 15., 20., 25., 30., 35.]),\n",
       " <a list of 8 Text yticklabel objects>)"
      ]
     },
     "execution_count": 39,
     "metadata": {},
     "output_type": "execute_result"
    },
    {
     "data": {
      "image/png": "[encoded data removed]",
      "text/plain": [
       "<Figure size 792x288 with 1 Axes>"
      ]
     },
     "metadata": {},
     "output_type": "display_data"
    }
   ],
   "source": [
    "sns.set(rc={'figure.figsize':(11, 4)})\n",
    "halo_sul_ver['Temperatura'].plot(linewidth=0.5);\n",
    "plt.xticks(rotation=90)\n",
    "plt.yticks(rotation=90)"
   ]
  },
  {
   "cell_type": "markdown",
   "metadata": {},
   "source": [
    "# Madagascar\n",
    "## halo_sul_inv = temp_moz_jan\n",
    "## halo_sul_ver = temp_moz_jun"
   ]
  },
  {
   "cell_type": "code",
   "execution_count": 41,
   "metadata": {},
   "outputs": [],
   "source": [
    "halo_centro_inv = pd.read_fwf('temp_moz_jun', header=None, names = ['Profundidade', 'www', 'indece', 'Salinidade'])\n",
    "halo_centro_ver = pd.read_fwf('temp_moz_jan', header=None, names = ['Profundidade', 'www', 'indece', 'Salinidade'])"
   ]
  },
  {
   "cell_type": "code",
   "execution_count": 42,
   "metadata": {},
   "outputs": [],
   "source": [
    "del halo_centro_inv['www']\n",
    "del halo_centro_inv['indece']\n",
    "del halo_centro_ver['www']\n",
    "del halo_centro_ver['indece']"
   ]
  },
  {
   "cell_type": "code",
   "execution_count": 43,
   "metadata": {},
   "outputs": [],
   "source": [
    "halo_centro_inv = halo_centro_inv.set_index('Profundidade')\n",
    "halo_centro_ver = halo_centro_ver.set_index('Profundidade')"
   ]
  },
  {
   "cell_type": "code",
   "execution_count": 44,
   "metadata": {},
   "outputs": [],
   "source": [
    "halo_centro_inv[\"Salinidade\"] = pd.to_numeric(halo_centro_inv[\"Salinidade\"])\n",
    "halo_centro_ver[\"Salinidade\"] = pd.to_numeric(halo_centro_ver[\"Salinidade\"])"
   ]
  },
  {
   "cell_type": "code",
   "execution_count": 45,
   "metadata": {},
   "outputs": [
    {
     "data": {
      "text/plain": [
       "(array([ 0.,  5., 10., 15., 20., 25., 30.]),\n",
       " <a list of 7 Text yticklabel objects>)"
      ]
     },
     "execution_count": 45,
     "metadata": {},
     "output_type": "execute_result"
    },
    {
     "data": {
      "image/png": "[encoded data removed]",
      "text/plain": [
       "<Figure size 792x288 with 1 Axes>"
      ]
     },
     "metadata": {},
     "output_type": "display_data"
    }
   ],
   "source": [
    "sns.set(rc={'figure.figsize':(11, 4)})\n",
    "halo_centro = halo_centro_inv['Salinidade'].plot(linewidth=0.5);\n",
    "halo_centro = halo_centro_ver['Salinidade'].plot(linewidth=0.5);\n",
    "#halo_sul = halo_sul.set_xticklabels(rotation = 90)\n",
    "\n",
    "plt.xticks(rotation=90)\n",
    "plt.yticks(rotation=90)\n",
    "#plt.setp(ax.get_xticklabels(), rotation=30)"
   ]
  },
  {
   "cell_type": "code",
   "execution_count": 54,
   "metadata": {},
   "outputs": [
    {
     "data": {
      "text/html": [
       "<div>\n",
       "<style scoped>\n",
       "    .dataframe tbody tr th:only-of-type {\n",
       "        vertical-align: middle;\n",
       "    }\n",
       "\n",
       "    .dataframe tbody tr th {\n",
       "        vertical-align: top;\n",
       "    }\n",
       "\n",
       "    .dataframe thead th {\n",
       "        text-align: right;\n",
       "    }\n",
       "</style>\n",
       "<table border=\"1\" class=\"dataframe\">\n",
       "  <thead>\n",
       "    <tr style=\"text-align: right;\">\n",
       "      <th></th>\n",
       "      <th>Salinidade</th>\n",
       "    </tr>\n",
       "  </thead>\n",
       "  <tbody>\n",
       "    <tr>\n",
       "      <th>count</th>\n",
       "      <td>26.000000</td>\n",
       "    </tr>\n",
       "    <tr>\n",
       "      <th>mean</th>\n",
       "      <td>16.088846</td>\n",
       "    </tr>\n",
       "    <tr>\n",
       "      <th>std</th>\n",
       "      <td>8.017770</td>\n",
       "    </tr>\n",
       "    <tr>\n",
       "      <th>min</th>\n",
       "      <td>3.200000</td>\n",
       "    </tr>\n",
       "    <tr>\n",
       "      <th>25%</th>\n",
       "      <td>9.375000</td>\n",
       "    </tr>\n",
       "    <tr>\n",
       "      <th>50%</th>\n",
       "      <td>16.710000</td>\n",
       "    </tr>\n",
       "    <tr>\n",
       "      <th>75%</th>\n",
       "      <td>23.430000</td>\n",
       "    </tr>\n",
       "    <tr>\n",
       "      <th>max</th>\n",
       "      <td>26.370000</td>\n",
       "    </tr>\n",
       "  </tbody>\n",
       "</table>\n",
       "</div>"
      ],
      "text/plain": [
       "       Salinidade\n",
       "count   26.000000\n",
       "mean    16.088846\n",
       "std      8.017770\n",
       "min      3.200000\n",
       "25%      9.375000\n",
       "50%     16.710000\n",
       "75%     23.430000\n",
       "max     26.370000"
      ]
     },
     "execution_count": 54,
     "metadata": {},
     "output_type": "execute_result"
    }
   ],
   "source": [
    "halo_centro_inv.describe()"
   ]
  },
  {
   "cell_type": "code",
   "execution_count": 15,
   "metadata": {},
   "outputs": [
    {
     "data": {
      "text/plain": [
       "(array([ 0.,  5., 10., 15., 20., 25., 30.]),\n",
       " <a list of 7 Text yticklabel objects>)"
      ]
     },
     "execution_count": 15,
     "metadata": {},
     "output_type": "execute_result"
    },
    {
     "data": {
      "image/png": "[encoded data removed]",
      "text/plain": [
       "<Figure size 792x288 with 1 Axes>"
      ]
     },
     "metadata": {},
     "output_type": "display_data"
    }
   ],
   "source": [
    "sns.set(rc={'figure.figsize':(11, 4)})\n",
    "#halo_centro = halo_centro_inv['Salinidade'].plot(linewidth=0.5);\n",
    "halo_centro = halo_centro_ver['Salinidade'].plot(linewidth=0.5);\n",
    "#halo_sul = halo_sul.set_xticklabels(rotation = 90)\n",
    "\n",
    "plt.xticks(rotation=90)\n",
    "plt.yticks(rotation=90)\n",
    "#plt.setp(ax.get_xticklabels(), rotation=30)"
   ]
  },
  {
   "cell_type": "code",
   "execution_count": 47,
   "metadata": {},
   "outputs": [],
   "source": [
    "halo_norte_inv = pd.read_fwf('C:/genio/genio/halo/halo_test/norte_inv.txt', header=None, names = ['Profundidade', 'www', 'indece', 'Salinidade'])\n",
    "halo_norte_ver = pd.read_fwf('C:/genio/genio/halo/halo_test/norte_ver.txt', header=None, names = ['Profundidade', 'www', 'indece', 'Salinidade'])\n",
    "del halo_norte_inv['www']\n",
    "del halo_norte_inv['indece']\n",
    "del halo_norte_ver['www']\n",
    "del halo_norte_ver['indece']\n",
    "\n",
    "\n"
   ]
  },
  {
   "cell_type": "code",
   "execution_count": 48,
   "metadata": {},
   "outputs": [
    {
     "data": {
      "text/html": [
       "<div>\n",
       "<style scoped>\n",
       "    .dataframe tbody tr th:only-of-type {\n",
       "        vertical-align: middle;\n",
       "    }\n",
       "\n",
       "    .dataframe tbody tr th {\n",
       "        vertical-align: top;\n",
       "    }\n",
       "\n",
       "    .dataframe thead th {\n",
       "        text-align: right;\n",
       "    }\n",
       "</style>\n",
       "<table border=\"1\" class=\"dataframe\">\n",
       "  <thead>\n",
       "    <tr style=\"text-align: right;\">\n",
       "      <th></th>\n",
       "      <th>Profundidade</th>\n",
       "      <th>Salinidade</th>\n",
       "    </tr>\n",
       "  </thead>\n",
       "  <tbody>\n",
       "    <tr>\n",
       "      <th>33</th>\n",
       "      <td>2071.3</td>\n",
       "      <td>34.78</td>\n",
       "    </tr>\n",
       "    <tr>\n",
       "      <th>34</th>\n",
       "      <td>2271.3</td>\n",
       "      <td>34.77</td>\n",
       "    </tr>\n",
       "    <tr>\n",
       "      <th>35</th>\n",
       "      <td>2474.0</td>\n",
       "      <td>34.76</td>\n",
       "    </tr>\n",
       "    <tr>\n",
       "      <th>36</th>\n",
       "      <td>2678.8</td>\n",
       "      <td>34.76</td>\n",
       "    </tr>\n",
       "    <tr>\n",
       "      <th>37</th>\n",
       "      <td>2884.9</td>\n",
       "      <td>34.75</td>\n",
       "    </tr>\n",
       "    <tr>\n",
       "      <th>38</th>\n",
       "      <td>3092.1</td>\n",
       "      <td>34.75</td>\n",
       "    </tr>\n",
       "    <tr>\n",
       "      <th>39</th>\n",
       "      <td>3300.1</td>\n",
       "      <td>....</td>\n",
       "    </tr>\n",
       "    <tr>\n",
       "      <th>40</th>\n",
       "      <td>3508.6</td>\n",
       "      <td>....</td>\n",
       "    </tr>\n",
       "    <tr>\n",
       "      <th>41</th>\n",
       "      <td>3717.6</td>\n",
       "      <td>....</td>\n",
       "    </tr>\n",
       "    <tr>\n",
       "      <th>42</th>\n",
       "      <td>3926.8</td>\n",
       "      <td>....</td>\n",
       "    </tr>\n",
       "    <tr>\n",
       "      <th>43</th>\n",
       "      <td>4136.3</td>\n",
       "      <td>....</td>\n",
       "    </tr>\n",
       "    <tr>\n",
       "      <th>44</th>\n",
       "      <td>4345.9</td>\n",
       "      <td>....</td>\n",
       "    </tr>\n",
       "    <tr>\n",
       "      <th>45</th>\n",
       "      <td>4555.6</td>\n",
       "      <td>....</td>\n",
       "    </tr>\n",
       "    <tr>\n",
       "      <th>46</th>\n",
       "      <td>4765.4</td>\n",
       "      <td>....</td>\n",
       "    </tr>\n",
       "    <tr>\n",
       "      <th>47</th>\n",
       "      <td>4975.2</td>\n",
       "      <td>....</td>\n",
       "    </tr>\n",
       "    <tr>\n",
       "      <th>48</th>\n",
       "      <td>5185.1</td>\n",
       "      <td>....</td>\n",
       "    </tr>\n",
       "    <tr>\n",
       "      <th>49</th>\n",
       "      <td>5395.0</td>\n",
       "      <td>....</td>\n",
       "    </tr>\n",
       "  </tbody>\n",
       "</table>\n",
       "</div>"
      ],
      "text/plain": [
       "    Profundidade Salinidade\n",
       "33        2071.3      34.78\n",
       "34        2271.3      34.77\n",
       "35        2474.0      34.76\n",
       "36        2678.8      34.76\n",
       "37        2884.9      34.75\n",
       "38        3092.1      34.75\n",
       "39        3300.1       ....\n",
       "40        3508.6       ....\n",
       "41        3717.6       ....\n",
       "42        3926.8       ....\n",
       "43        4136.3       ....\n",
       "44        4345.9       ....\n",
       "45        4555.6       ....\n",
       "46        4765.4       ....\n",
       "47        4975.2       ....\n",
       "48        5185.1       ....\n",
       "49        5395.0       ...."
      ]
     },
     "execution_count": 48,
     "metadata": {},
     "output_type": "execute_result"
    }
   ],
   "source": [
    "halo_norte_inv.tail(17)"
   ]
  },
  {
   "cell_type": "code",
   "execution_count": 50,
   "metadata": {},
   "outputs": [],
   "source": [
    "halo_norte_inv = halo_norte_inv.set_index('Profundidade')\n",
    "halo_norte_ver = halo_norte_ver.set_index('Profundidade')\n",
    "halo_norte_inv= halo_norte_inv.loc[5.0:3092.1]\n",
    "salinidade = halo_norte_inv['Salinidade']\n",
    "halo_norte_ver= halo_norte_ver.loc[5.0:3092.1]\n"
   ]
  },
  {
   "cell_type": "code",
   "execution_count": 57,
   "metadata": {},
   "outputs": [
    {
     "data": {
      "text/html": [
       "<div>\n",
       "<style scoped>\n",
       "    .dataframe tbody tr th:only-of-type {\n",
       "        vertical-align: middle;\n",
       "    }\n",
       "\n",
       "    .dataframe tbody tr th {\n",
       "        vertical-align: top;\n",
       "    }\n",
       "\n",
       "    .dataframe thead th {\n",
       "        text-align: right;\n",
       "    }\n",
       "</style>\n",
       "<table border=\"1\" class=\"dataframe\">\n",
       "  <thead>\n",
       "    <tr style=\"text-align: right;\">\n",
       "      <th></th>\n",
       "      <th>Salinidade</th>\n",
       "    </tr>\n",
       "    <tr>\n",
       "      <th>Profundidade</th>\n",
       "      <th></th>\n",
       "    </tr>\n",
       "  </thead>\n",
       "  <tbody>\n",
       "    <tr>\n",
       "      <th>2884.9</th>\n",
       "      <td>34.75</td>\n",
       "    </tr>\n",
       "    <tr>\n",
       "      <th>3092.1</th>\n",
       "      <td>34.75</td>\n",
       "    </tr>\n",
       "  </tbody>\n",
       "</table>\n",
       "</div>"
      ],
      "text/plain": [
       "             Salinidade\n",
       "Profundidade           \n",
       "2884.9            34.75\n",
       "3092.1            34.75"
      ]
     },
     "execution_count": 57,
     "metadata": {},
     "output_type": "execute_result"
    }
   ],
   "source": [
    "halo_norte_inv.tail(2)"
   ]
  },
  {
   "cell_type": "code",
   "execution_count": 62,
   "metadata": {},
   "outputs": [],
   "source": [
    "halo_norte_inv[\"Salinidade\"] = pd.to_numeric(halo_norte_inv[\"Salinidade\"])\n",
    "halo_norte_ver[\"Salinidade\"] = pd.to_numeric(halo_norte_ver[\"Salinidade\"])"
   ]
  },
  {
   "cell_type": "code",
   "execution_count": 63,
   "metadata": {},
   "outputs": [
    {
     "data": {
      "text/plain": [
       "(array([34.7, 34.8, 34.9, 35. , 35.1, 35.2, 35.3, 35.4]),\n",
       " <a list of 8 Text yticklabel objects>)"
      ]
     },
     "execution_count": 63,
     "metadata": {},
     "output_type": "execute_result"
    },
    {
     "data": {
      "image/png": "[encoded data removed]",
      "text/plain": [
       "<Figure size 792x288 with 1 Axes>"
      ]
     },
     "metadata": {},
     "output_type": "display_data"
    }
   ],
   "source": [
    "sns.set(rc={'figure.figsize':(11, 4)})\n",
    "halo_norte_inv['Salinidade'].plot(linewidth=0.5);\n",
    "halo_norte_ver['Salinidade'].plot(linewidth=0.5);\n",
    "plt.xticks(rotation=90)\n",
    "plt.yticks(rotation=90)"
   ]
  },
  {
   "cell_type": "code",
   "execution_count": null,
   "metadata": {},
   "outputs": [],
   "source": []
  },
  {
   "cell_type": "code",
   "execution_count": 51,
   "metadata": {},
   "outputs": [],
   "source": [
    "test_inv = pd.read_fwf('C:/genio/genio/halo/halo_test/centro_inv.txt', header=None, names = ['Profundidade', 'www', 'indece', 'Salinidade'])\n",
    "test_ver = pd.read_fwf('C:/genio/genio/halo/halo_test/centro_ver.txt', header=None, names = ['Profundidade', 'www', 'indece', 'Salinidade'])"
   ]
  },
  {
   "cell_type": "code",
   "execution_count": 52,
   "metadata": {},
   "outputs": [],
   "source": [
    "del test_inv['www']\n",
    "del test_inv['indece']\n",
    "del test_ver['www']\n",
    "del test_ver['indece']"
   ]
  },
  {
   "cell_type": "code",
   "execution_count": 53,
   "metadata": {},
   "outputs": [
    {
     "data": {
      "text/html": [
       "<div>\n",
       "<style scoped>\n",
       "    .dataframe tbody tr th:only-of-type {\n",
       "        vertical-align: middle;\n",
       "    }\n",
       "\n",
       "    .dataframe tbody tr th {\n",
       "        vertical-align: top;\n",
       "    }\n",
       "\n",
       "    .dataframe thead th {\n",
       "        text-align: right;\n",
       "    }\n",
       "</style>\n",
       "<table border=\"1\" class=\"dataframe\">\n",
       "  <thead>\n",
       "    <tr style=\"text-align: right;\">\n",
       "      <th></th>\n",
       "      <th>Profundidade</th>\n",
       "      <th>Salinidade</th>\n",
       "    </tr>\n",
       "  </thead>\n",
       "  <tbody>\n",
       "    <tr>\n",
       "      <th>48</th>\n",
       "      <td>5185.1</td>\n",
       "      <td>....</td>\n",
       "    </tr>\n",
       "    <tr>\n",
       "      <th>49</th>\n",
       "      <td>5395.0</td>\n",
       "      <td>....</td>\n",
       "    </tr>\n",
       "  </tbody>\n",
       "</table>\n",
       "</div>"
      ],
      "text/plain": [
       "    Profundidade Salinidade\n",
       "48        5185.1       ....\n",
       "49        5395.0       ...."
      ]
     },
     "execution_count": 53,
     "metadata": {},
     "output_type": "execute_result"
    }
   ],
   "source": [
    "test_inv.tail(2)"
   ]
  },
  {
   "cell_type": "code",
   "execution_count": 54,
   "metadata": {},
   "outputs": [
    {
     "data": {
      "text/html": [
       "<div>\n",
       "<style scoped>\n",
       "    .dataframe tbody tr th:only-of-type {\n",
       "        vertical-align: middle;\n",
       "    }\n",
       "\n",
       "    .dataframe tbody tr th {\n",
       "        vertical-align: top;\n",
       "    }\n",
       "\n",
       "    .dataframe thead th {\n",
       "        text-align: right;\n",
       "    }\n",
       "</style>\n",
       "<table border=\"1\" class=\"dataframe\">\n",
       "  <thead>\n",
       "    <tr style=\"text-align: right;\">\n",
       "      <th></th>\n",
       "      <th>Profundidade</th>\n",
       "      <th>Salinidade</th>\n",
       "    </tr>\n",
       "  </thead>\n",
       "  <tbody>\n",
       "    <tr>\n",
       "      <th>34</th>\n",
       "      <td>2271.3</td>\n",
       "      <td>34.81</td>\n",
       "    </tr>\n",
       "    <tr>\n",
       "      <th>35</th>\n",
       "      <td>2474.0</td>\n",
       "      <td>34.82</td>\n",
       "    </tr>\n",
       "    <tr>\n",
       "      <th>36</th>\n",
       "      <td>2678.8</td>\n",
       "      <td>34.82</td>\n",
       "    </tr>\n",
       "    <tr>\n",
       "      <th>37</th>\n",
       "      <td>2884.9</td>\n",
       "      <td>34.81</td>\n",
       "    </tr>\n",
       "    <tr>\n",
       "      <th>38</th>\n",
       "      <td>3092.1</td>\n",
       "      <td>....</td>\n",
       "    </tr>\n",
       "    <tr>\n",
       "      <th>39</th>\n",
       "      <td>3300.1</td>\n",
       "      <td>....</td>\n",
       "    </tr>\n",
       "    <tr>\n",
       "      <th>40</th>\n",
       "      <td>3508.6</td>\n",
       "      <td>....</td>\n",
       "    </tr>\n",
       "    <tr>\n",
       "      <th>41</th>\n",
       "      <td>3717.6</td>\n",
       "      <td>....</td>\n",
       "    </tr>\n",
       "    <tr>\n",
       "      <th>42</th>\n",
       "      <td>3926.8</td>\n",
       "      <td>....</td>\n",
       "    </tr>\n",
       "    <tr>\n",
       "      <th>43</th>\n",
       "      <td>4136.3</td>\n",
       "      <td>....</td>\n",
       "    </tr>\n",
       "    <tr>\n",
       "      <th>44</th>\n",
       "      <td>4345.9</td>\n",
       "      <td>....</td>\n",
       "    </tr>\n",
       "    <tr>\n",
       "      <th>45</th>\n",
       "      <td>4555.6</td>\n",
       "      <td>....</td>\n",
       "    </tr>\n",
       "    <tr>\n",
       "      <th>46</th>\n",
       "      <td>4765.4</td>\n",
       "      <td>....</td>\n",
       "    </tr>\n",
       "    <tr>\n",
       "      <th>47</th>\n",
       "      <td>4975.2</td>\n",
       "      <td>....</td>\n",
       "    </tr>\n",
       "    <tr>\n",
       "      <th>48</th>\n",
       "      <td>5185.1</td>\n",
       "      <td>....</td>\n",
       "    </tr>\n",
       "    <tr>\n",
       "      <th>49</th>\n",
       "      <td>5395.0</td>\n",
       "      <td>....</td>\n",
       "    </tr>\n",
       "  </tbody>\n",
       "</table>\n",
       "</div>"
      ],
      "text/plain": [
       "    Profundidade Salinidade\n",
       "34        2271.3      34.81\n",
       "35        2474.0      34.82\n",
       "36        2678.8      34.82\n",
       "37        2884.9      34.81\n",
       "38        3092.1       ....\n",
       "39        3300.1       ....\n",
       "40        3508.6       ....\n",
       "41        3717.6       ....\n",
       "42        3926.8       ....\n",
       "43        4136.3       ....\n",
       "44        4345.9       ....\n",
       "45        4555.6       ....\n",
       "46        4765.4       ....\n",
       "47        4975.2       ....\n",
       "48        5185.1       ....\n",
       "49        5395.0       ...."
      ]
     },
     "execution_count": 54,
     "metadata": {},
     "output_type": "execute_result"
    }
   ],
   "source": [
    "test_ver.tail(16)"
   ]
  },
  {
   "cell_type": "code",
   "execution_count": null,
   "metadata": {},
   "outputs": [],
   "source": [
    "test_inv[\"Salinidade\"] = pd.to_numeric(test_inv[\"Salinidade\"])\n",
    "test_ver[\"Salinidade\"] = pd.to_numeric(test_ver[\"Salinidade\"])"
   ]
  },
  {
   "cell_type": "code",
   "execution_count": null,
   "metadata": {},
   "outputs": [],
   "source": [
    "test_inv['Salinidade'].sort_index(ascending=False)\n",
    "test_ver['Salinidade'].sort_index(ascending=False)"
   ]
  },
  {
   "cell_type": "code",
   "execution_count": null,
   "metadata": {},
   "outputs": [],
   "source": [
    "sns.set(rc={'figure.figsize':(11, 4)})\n",
    "halo_centro_inv['Salinidade'].plot(linewidth=0.5);\n",
    "halo_centro_ver['Salinidade'].plot(linewidth=0.5);"
   ]
  },
  {
   "cell_type": "code",
   "execution_count": null,
   "metadata": {},
   "outputs": [],
   "source": []
  },
  {
   "cell_type": "code",
   "execution_count": null,
   "metadata": {},
   "outputs": [],
   "source": [
    "fig, ax = plt.subplots()\n",
    "ax2 = ax.twiny()\n",
    "sns.linplot(x=\"x\", y=\"f\", data=halo_sul_inv['Salinidade'], order=2, ax=ax)\n",
    "sns.linplot(x=\"x\", y=\"g\", data=halo_sul_ver['Salinidade'], order=2, ax=ax2)\n",
    "\n",
    "\n",
    "ax2.legend(handles=[a.lines[0] for a in [ax,ax2]], \n",
    "           labels=[\"f\", \"g\"])\n",
    "plt.show()\n"
   ]
  },
  {
   "cell_type": "code",
   "execution_count": 72,
   "metadata": {},
   "outputs": [
    {
     "data": {
      "text/plain": [
       "Salinidade    35.32\n",
       "dtype: float64"
      ]
     },
     "execution_count": 72,
     "metadata": {},
     "output_type": "execute_result"
    }
   ],
   "source": [
    "halo_sul_ver.max()"
   ]
  },
  {
   "cell_type": "code",
   "execution_count": 76,
   "metadata": {},
   "outputs": [
    {
     "data": {
      "text/plain": [
       "Salinidade    35.51\n",
       "dtype: float64"
      ]
     },
     "execution_count": 76,
     "metadata": {},
     "output_type": "execute_result"
    }
   ],
   "source": [
    "halo_sul_inv.max()"
   ]
  },
  {
   "cell_type": "code",
   "execution_count": 68,
   "metadata": {},
   "outputs": [
    {
     "data": {
      "text/plain": [
       "Salinidade    35.33\n",
       "dtype: float64"
      ]
     },
     "execution_count": 68,
     "metadata": {},
     "output_type": "execute_result"
    }
   ],
   "source": [
    "halo_centro_inv.max()"
   ]
  },
  {
   "cell_type": "code",
   "execution_count": 69,
   "metadata": {},
   "outputs": [
    {
     "data": {
      "text/plain": [
       "Salinidade    35.35\n",
       "dtype: float64"
      ]
     },
     "execution_count": 69,
     "metadata": {},
     "output_type": "execute_result"
    }
   ],
   "source": [
    "halo_centro_ver.max()"
   ]
  },
  {
   "cell_type": "code",
   "execution_count": 70,
   "metadata": {},
   "outputs": [
    {
     "data": {
      "text/plain": [
       "Salinidade    35.3\n",
       "dtype: float64"
      ]
     },
     "execution_count": 70,
     "metadata": {},
     "output_type": "execute_result"
    }
   ],
   "source": [
    "halo_norte_inv.max()"
   ]
  },
  {
   "cell_type": "code",
   "execution_count": 71,
   "metadata": {},
   "outputs": [
    {
     "data": {
      "text/plain": [
       "Salinidade    35.36\n",
       "dtype: float64"
      ]
     },
     "execution_count": 71,
     "metadata": {},
     "output_type": "execute_result"
    }
   ],
   "source": [
    "halo_norte_ver.max()"
   ]
  },
  {
   "cell_type": "code",
   "execution_count": null,
   "metadata": {},
   "outputs": [],
   "source": []
  }
 ],
 "metadata": {
  "kernelspec": {
   "display_name": "Python 3",
   "language": "python",
   "name": "python3"
  },
  "language_info": {
   "codemirror_mode": {
    "name": "ipython",
    "version": 3
   },
   "file_extension": ".py",
   "mimetype": "text/x-python",
   "name": "python",
   "nbconvert_exporter": "python",
   "pygments_lexer": "ipython3",
   "version": "3.7.6"
  }
 },
 "nbformat": 4,
 "nbformat_minor": 2
}
